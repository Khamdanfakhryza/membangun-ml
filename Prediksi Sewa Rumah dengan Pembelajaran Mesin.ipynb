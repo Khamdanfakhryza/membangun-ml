{
 "cells": [
  {
   "cell_type": "markdown",
   "metadata": {
    "id": "r7VpXuptPoEa"
   },
   "source": [
    "# **Data Diri**\n",
    "\n",
    "- **Nama:** Khamdan Annas Fakhryza\n",
    "- **Email:** Khamdan@std.unissul.ac.id\n",
    "- **ID Dicoding:** khamdan-fakhryza"
   ]
  },
  {
   "cell_type": "markdown",
   "metadata": {
    "id": "d39W6lcQmJjo"
   },
   "source": [
    "Dataset ini diambil dari : https://www.kaggle.com/datasets/iamsouravbanerjee/house-rent-prediction-dataset"
   ]
  },
  {
   "cell_type": "markdown",
   "metadata": {
    "id": "mJa6DLqPybsZ"
   },
   "source": [
    "# Data Collection"
   ]
  },
  {
   "cell_type": "code",
   "execution_count": 80,
   "metadata": {
    "id": "jmBsD_36HG1Q",
    "tags": []
   },
   "outputs": [],
   "source": [
    "# Mengimpor pustaka NumPy untuk operasi numerik dan array\n",
    "import numpy as np\n",
    "# Mengimpor pustaka matplotlib untuk visualisasi data (grafik/plot)\n",
    "import matplotlib.pyplot as plt\n",
    "# Mengimpor pustaka pandas untuk manipulasi dan analisis data (terutama tabel/CSV)\n",
    "import pandas as pd\n",
    "# Mengimpor seaborn untuk visualisasi statistik yang lebih menarik\n",
    "import seaborn as sns\n",
    "\n",
    "# Mengaktifkan mode inline agar grafik langsung ditampilkan di dalam Jupyter Notebook\n",
    "%matplotlib inline\n"
   ]
  },
  {
   "cell_type": "code",
   "execution_count": 81,
   "metadata": {
    "colab": {
     "base_uri": "https://localhost:8080/",
     "height": 206
    },
    "id": "mgQaz9H8qUMc",
    "outputId": "ae32508f-2280-433c-a016-6e1930f7c3a4",
    "tags": []
   },
   "outputs": [
    {
     "data": {
      "text/html": [
       "<div>\n",
       "<style scoped>\n",
       "    .dataframe tbody tr th:only-of-type {\n",
       "        vertical-align: middle;\n",
       "    }\n",
       "\n",
       "    .dataframe tbody tr th {\n",
       "        vertical-align: top;\n",
       "    }\n",
       "\n",
       "    .dataframe thead th {\n",
       "        text-align: right;\n",
       "    }\n",
       "</style>\n",
       "<table border=\"1\" class=\"dataframe\">\n",
       "  <thead>\n",
       "    <tr style=\"text-align: right;\">\n",
       "      <th></th>\n",
       "      <th>Posted On</th>\n",
       "      <th>BHK</th>\n",
       "      <th>Rent</th>\n",
       "      <th>Size</th>\n",
       "      <th>Floor</th>\n",
       "      <th>Area Type</th>\n",
       "      <th>Area Locality</th>\n",
       "      <th>City</th>\n",
       "      <th>Furnishing Status</th>\n",
       "      <th>Tenant Preferred</th>\n",
       "      <th>Bathroom</th>\n",
       "      <th>Point of Contact</th>\n",
       "    </tr>\n",
       "  </thead>\n",
       "  <tbody>\n",
       "    <tr>\n",
       "      <th>0</th>\n",
       "      <td>2022-05-18</td>\n",
       "      <td>2</td>\n",
       "      <td>10000</td>\n",
       "      <td>1100</td>\n",
       "      <td>Ground out of 2</td>\n",
       "      <td>Super Area</td>\n",
       "      <td>Bandel</td>\n",
       "      <td>Kolkata</td>\n",
       "      <td>Unfurnished</td>\n",
       "      <td>Bachelors/Family</td>\n",
       "      <td>2</td>\n",
       "      <td>Contact Owner</td>\n",
       "    </tr>\n",
       "    <tr>\n",
       "      <th>1</th>\n",
       "      <td>2022-05-13</td>\n",
       "      <td>2</td>\n",
       "      <td>20000</td>\n",
       "      <td>800</td>\n",
       "      <td>1 out of 3</td>\n",
       "      <td>Super Area</td>\n",
       "      <td>Phool Bagan, Kankurgachi</td>\n",
       "      <td>Kolkata</td>\n",
       "      <td>Semi-Furnished</td>\n",
       "      <td>Bachelors/Family</td>\n",
       "      <td>1</td>\n",
       "      <td>Contact Owner</td>\n",
       "    </tr>\n",
       "    <tr>\n",
       "      <th>2</th>\n",
       "      <td>2022-05-16</td>\n",
       "      <td>2</td>\n",
       "      <td>17000</td>\n",
       "      <td>1000</td>\n",
       "      <td>1 out of 3</td>\n",
       "      <td>Super Area</td>\n",
       "      <td>Salt Lake City Sector 2</td>\n",
       "      <td>Kolkata</td>\n",
       "      <td>Semi-Furnished</td>\n",
       "      <td>Bachelors/Family</td>\n",
       "      <td>1</td>\n",
       "      <td>Contact Owner</td>\n",
       "    </tr>\n",
       "    <tr>\n",
       "      <th>3</th>\n",
       "      <td>2022-07-04</td>\n",
       "      <td>2</td>\n",
       "      <td>10000</td>\n",
       "      <td>800</td>\n",
       "      <td>1 out of 2</td>\n",
       "      <td>Super Area</td>\n",
       "      <td>Dumdum Park</td>\n",
       "      <td>Kolkata</td>\n",
       "      <td>Unfurnished</td>\n",
       "      <td>Bachelors/Family</td>\n",
       "      <td>1</td>\n",
       "      <td>Contact Owner</td>\n",
       "    </tr>\n",
       "    <tr>\n",
       "      <th>4</th>\n",
       "      <td>2022-05-09</td>\n",
       "      <td>2</td>\n",
       "      <td>7500</td>\n",
       "      <td>850</td>\n",
       "      <td>1 out of 2</td>\n",
       "      <td>Carpet Area</td>\n",
       "      <td>South Dum Dum</td>\n",
       "      <td>Kolkata</td>\n",
       "      <td>Unfurnished</td>\n",
       "      <td>Bachelors</td>\n",
       "      <td>1</td>\n",
       "      <td>Contact Owner</td>\n",
       "    </tr>\n",
       "  </tbody>\n",
       "</table>\n",
       "</div>"
      ],
      "text/plain": [
       "    Posted On  BHK   Rent  Size            Floor    Area Type  \\\n",
       "0  2022-05-18    2  10000  1100  Ground out of 2   Super Area   \n",
       "1  2022-05-13    2  20000   800       1 out of 3   Super Area   \n",
       "2  2022-05-16    2  17000  1000       1 out of 3   Super Area   \n",
       "3  2022-07-04    2  10000   800       1 out of 2   Super Area   \n",
       "4  2022-05-09    2   7500   850       1 out of 2  Carpet Area   \n",
       "\n",
       "              Area Locality     City Furnishing Status  Tenant Preferred  \\\n",
       "0                    Bandel  Kolkata       Unfurnished  Bachelors/Family   \n",
       "1  Phool Bagan, Kankurgachi  Kolkata    Semi-Furnished  Bachelors/Family   \n",
       "2   Salt Lake City Sector 2  Kolkata    Semi-Furnished  Bachelors/Family   \n",
       "3               Dumdum Park  Kolkata       Unfurnished  Bachelors/Family   \n",
       "4             South Dum Dum  Kolkata       Unfurnished         Bachelors   \n",
       "\n",
       "   Bathroom Point of Contact  \n",
       "0         2    Contact Owner  \n",
       "1         1    Contact Owner  \n",
       "2         1    Contact Owner  \n",
       "3         1    Contact Owner  \n",
       "4         1    Contact Owner  "
      ]
     },
     "execution_count": 81,
     "metadata": {},
     "output_type": "execute_result"
    }
   ],
   "source": [
    "# Membaca file CSV yang berisi data sewa rumah dan menyimpannya ke dalam DataFrame bernama 'df'\n",
    "df = pd.read_csv(\"/opt/notebooks/Membangun ML/Data_sewa rumah.csv\")\n",
    "\n",
    "# Menampilkan 5 baris pertama dari DataFrame untuk melihat struktur dan isi data\n",
    "df.head()\n"
   ]
  },
  {
   "cell_type": "markdown",
   "metadata": {
    "id": "Rp-ZcVIgypZP"
   },
   "source": [
    "# Data Understanding & Removing Outlier"
   ]
  },
  {
   "cell_type": "code",
   "execution_count": 82,
   "metadata": {
    "colab": {
     "base_uri": "https://localhost:8080/"
    },
    "id": "vx579kTCFik2",
    "outputId": "2f4813f0-3c96-460c-e589-bdb5edd9e932",
    "tags": []
   },
   "outputs": [
    {
     "data": {
      "text/plain": [
       "(4746, 12)"
      ]
     },
     "execution_count": 82,
     "metadata": {},
     "output_type": "execute_result"
    }
   ],
   "source": [
    "# Menampilkan jumlah baris dan kolom dalam DataFrame 'df'\n",
    "df.shape"
   ]
  },
  {
   "cell_type": "code",
   "execution_count": 83,
   "metadata": {
    "colab": {
     "base_uri": "https://localhost:8080/"
    },
    "id": "7d2NdGt4qkg9",
    "outputId": "ac8d9547-2f6f-4657-a9e3-4369917488aa",
    "tags": []
   },
   "outputs": [
    {
     "name": "stdout",
     "output_type": "stream",
     "text": [
      "<class 'pandas.core.frame.DataFrame'>\n",
      "RangeIndex: 4746 entries, 0 to 4745\n",
      "Data columns (total 12 columns):\n",
      " #   Column             Non-Null Count  Dtype \n",
      "---  ------             --------------  ----- \n",
      " 0   Posted On          4746 non-null   object\n",
      " 1   BHK                4746 non-null   int64 \n",
      " 2   Rent               4746 non-null   int64 \n",
      " 3   Size               4746 non-null   int64 \n",
      " 4   Floor              4746 non-null   object\n",
      " 5   Area Type          4746 non-null   object\n",
      " 6   Area Locality      4746 non-null   object\n",
      " 7   City               4746 non-null   object\n",
      " 8   Furnishing Status  4746 non-null   object\n",
      " 9   Tenant Preferred   4746 non-null   object\n",
      " 10  Bathroom           4746 non-null   int64 \n",
      " 11  Point of Contact   4746 non-null   object\n",
      "dtypes: int64(4), object(8)\n",
      "memory usage: 445.1+ KB\n"
     ]
    }
   ],
   "source": [
    "# Menampilkan informasi umum tentang DataFrame, seperti jumlah non-null, tipe data, dan penggunaan memori\n",
    "df.info()"
   ]
  },
  {
   "cell_type": "code",
   "execution_count": 84,
   "metadata": {
    "id": "UYg9hF3JLTbw",
    "tags": []
   },
   "outputs": [],
   "source": [
    "# Menghapus kolom 'Posted On' dan 'Point of Contact' dari DataFrame\n",
    "# Alasan: kedua kolom ini dianggap tidak mempengaruhi harga sewa secara langsung (irrelevan untuk model prediksi)\n",
    "df = df.drop(['Posted On', 'Point of Contact'], axis='columns')"
   ]
  },
  {
   "cell_type": "markdown",
   "metadata": {
    "id": "8QdPc_EEy4nh"
   },
   "source": [
    "## Univariate Analysis"
   ]
  },
  {
   "cell_type": "code",
   "execution_count": 85,
   "metadata": {
    "colab": {
     "base_uri": "https://localhost:8080/"
    },
    "id": "ZPOC9oZFG-7u",
    "outputId": "29097c30-57ff-4afc-f587-8bff478d107b",
    "tags": []
   },
   "outputs": [
    {
     "data": {
      "text/plain": [
       "Area Type\n",
       "Built Area        2\n",
       "Carpet Area    2298\n",
       "Super Area     2446\n",
       "Name: Area Type, dtype: int64"
      ]
     },
     "execution_count": 85,
     "metadata": {},
     "output_type": "execute_result"
    }
   ],
   "source": [
    "# Mengelompokkan data berdasarkan kategori pada kolom 'Area Type',\n",
    "# lalu menghitung jumlah entri (baris) untuk setiap jenis 'Area Type'\n",
    "df.groupby('Area Type')['Area Type'].agg('count')\n"
   ]
  },
  {
   "cell_type": "code",
   "execution_count": 86,
   "metadata": {
    "id": "I_hp5YluNPJQ",
    "tags": []
   },
   "outputs": [],
   "source": [
    "# Karena kategori 'Built Area' pada fitur 'Area Type' hanya memiliki 2 sampel,\n",
    "# maka sampel tersebut akan dihapus agar tidak mempengaruhi model secara tidak proporsional\n",
    "\n",
    "# Men-drop (menghapus) baris-baris di mana nilai 'Area Type' adalah 'Built Area'\n",
    "df.drop(df.index[df['Area Type'] == 'Built Area'], inplace=True)"
   ]
  },
  {
   "cell_type": "code",
   "execution_count": 87,
   "metadata": {
    "colab": {
     "base_uri": "https://localhost:8080/"
    },
    "id": "sX8Cc1CuNdqL",
    "outputId": "8a80288d-4b08-482f-99d7-8c3907145d32",
    "tags": []
   },
   "outputs": [
    {
     "data": {
      "text/plain": [
       "Area Type\n",
       "Carpet Area    2298\n",
       "Super Area     2446\n",
       "Name: Area Type, dtype: int64"
      ]
     },
     "execution_count": 87,
     "metadata": {},
     "output_type": "execute_result"
    }
   ],
   "source": [
    "# Mengelompokkan data berdasarkan kategori pada kolom 'Area Type',\n",
    "# lalu menghitung jumlah entri (baris) untuk setiap jenis 'Area Type'\n",
    "df.groupby('Area Type')['Area Type'].agg('count')"
   ]
  },
  {
   "cell_type": "code",
   "execution_count": 88,
   "metadata": {
    "colab": {
     "base_uri": "https://localhost:8080/"
    },
    "id": "bzITYYrnImLM",
    "outputId": "0a61442c-b363-4ffe-f984-16628b7647e4",
    "tags": []
   },
   "outputs": [
    {
     "data": {
      "text/plain": [
       "City\n",
       "Bangalore    886\n",
       "Chennai      890\n",
       "Delhi        605\n",
       "Hyderabad    867\n",
       "Kolkata      524\n",
       "Mumbai       972\n",
       "Name: City, dtype: int64"
      ]
     },
     "execution_count": 88,
     "metadata": {},
     "output_type": "execute_result"
    }
   ],
   "source": [
    "# Mengelompokkan data berdasarkan kategori pada kolom 'City',\n",
    "# lalu menghitung jumlah entri (baris) untuk setiap kota dalam kolom 'City'\n",
    "df.groupby('City')['City'].agg('count')"
   ]
  },
  {
   "cell_type": "code",
   "execution_count": 89,
   "metadata": {
    "colab": {
     "base_uri": "https://localhost:8080/"
    },
    "id": "FHiXjDNBI4G8",
    "outputId": "26ab7ff7-3043-41c9-b367-e94f881e0f66",
    "tags": []
   },
   "outputs": [
    {
     "data": {
      "text/plain": [
       "Furnishing Status\n",
       "Furnished          679\n",
       "Semi-Furnished    2251\n",
       "Unfurnished       1814\n",
       "Name: Furnishing Status, dtype: int64"
      ]
     },
     "execution_count": 89,
     "metadata": {},
     "output_type": "execute_result"
    }
   ],
   "source": [
    "# Mengelompokkan data berdasarkan kategori pada kolom 'Furnishing Status',\n",
    "# lalu menghitung jumlah entri (baris) untuk setiap jenis 'Furnishing Status'\n",
    "df.groupby('Furnishing Status')['Furnishing Status'].agg('count')"
   ]
  },
  {
   "cell_type": "code",
   "execution_count": 90,
   "metadata": {
    "colab": {
     "base_uri": "https://localhost:8080/"
    },
    "id": "qs7S6SNiJSNy",
    "outputId": "43a4ae1d-e246-49b0-aa6b-8c4435145030",
    "tags": []
   },
   "outputs": [
    {
     "data": {
      "text/plain": [
       "Tenant Preferred\n",
       "Bachelors            830\n",
       "Bachelors/Family    3442\n",
       "Family               472\n",
       "Name: Tenant Preferred, dtype: int64"
      ]
     },
     "execution_count": 90,
     "metadata": {},
     "output_type": "execute_result"
    }
   ],
   "source": [
    "# Mengelompokkan data berdasarkan kategori pada kolom 'Tenant Preferred',\n",
    "# lalu menghitung jumlah entri (baris) untuk setiap jenis preferensi penyewa\n",
    "df.groupby('Tenant Preferred')['Tenant Preferred'].agg('count')"
   ]
  },
  {
   "cell_type": "code",
   "execution_count": 91,
   "metadata": {
    "colab": {
     "base_uri": "https://localhost:8080/"
    },
    "id": "igtzzxBlJIZY",
    "outputId": "53b587e7-4a37-4734-df3d-579acdf62e11",
    "tags": []
   },
   "outputs": [
    {
     "data": {
      "text/plain": [
       "Floor\n",
       "1                             2\n",
       "1 out of 1                  134\n",
       "1 out of 10                   4\n",
       "1 out of 11                   1\n",
       "1 out of 12                   2\n",
       "                           ... \n",
       "Upper Basement out of 4       3\n",
       "Upper Basement out of 40      1\n",
       "Upper Basement out of 5       1\n",
       "Upper Basement out of 7       2\n",
       "Upper Basement out of 9       2\n",
       "Name: Floor, Length: 480, dtype: int64"
      ]
     },
     "execution_count": 91,
     "metadata": {},
     "output_type": "execute_result"
    }
   ],
   "source": [
    "# Mengelompokkan data berdasarkan kategori pada kolom 'Floor',\n",
    "# lalu menghitung jumlah entri (baris) untuk setiap kategori 'Floor'\n",
    "df.groupby('Floor')['Floor'].agg('count')"
   ]
  },
  {
   "cell_type": "code",
   "execution_count": 92,
   "metadata": {
    "colab": {
     "base_uri": "https://localhost:8080/"
    },
    "id": "oMmJ1tWWId8e",
    "outputId": "a3ae25f5-f293-4b8f-f8c3-ae62c11f6457",
    "tags": []
   },
   "outputs": [
    {
     "data": {
      "text/plain": [
       "Area Locality\n",
       " Beeramguda, Ramachandra Puram, NH 9     1\n",
       " in Boduppal, NH 2 2                     1\n",
       " in Erragadda, NH 9                      1\n",
       " in Miyapur, NH 9                        1\n",
       "117 Residency, Chembur East              1\n",
       "                                        ..\n",
       "vanamali chs ghatla, Ghatla              1\n",
       "venkatapuram                             1\n",
       "venkatesa perumal nagar                  1\n",
       "villvam towers tnhb colony               1\n",
       "whitefield                              12\n",
       "Name: Area Locality, Length: 2234, dtype: int64"
      ]
     },
     "execution_count": 92,
     "metadata": {},
     "output_type": "execute_result"
    }
   ],
   "source": [
    "# Mengelompokkan data berdasarkan kategori pada kolom 'Area Locality',\n",
    "# lalu menghitung jumlah entri (baris) untuk setiap kategori 'Area Locality'\n",
    "df.groupby('Area Locality')['Area Locality'].agg('count')"
   ]
  },
  {
   "cell_type": "code",
   "execution_count": 15,
   "metadata": {
    "id": "gN5-XsNXMBBE",
    "tags": []
   },
   "outputs": [],
   "source": [
    "# Fitur Floor dan Area Locality memiliki banyak sekali nilai unique sehingga akan di drop\n",
    "df = df.drop(['Floor', 'Area Locality'], axis = 'columns')"
   ]
  },
  {
   "cell_type": "code",
   "execution_count": 93,
   "metadata": {
    "colab": {
     "base_uri": "https://localhost:8080/",
     "height": 206
    },
    "id": "QfJipWtDMOXZ",
    "outputId": "61976518-f0e3-4d22-889a-56afe7fa191f",
    "tags": []
   },
   "outputs": [
    {
     "data": {
      "text/html": [
       "<div>\n",
       "<style scoped>\n",
       "    .dataframe tbody tr th:only-of-type {\n",
       "        vertical-align: middle;\n",
       "    }\n",
       "\n",
       "    .dataframe tbody tr th {\n",
       "        vertical-align: top;\n",
       "    }\n",
       "\n",
       "    .dataframe thead th {\n",
       "        text-align: right;\n",
       "    }\n",
       "</style>\n",
       "<table border=\"1\" class=\"dataframe\">\n",
       "  <thead>\n",
       "    <tr style=\"text-align: right;\">\n",
       "      <th></th>\n",
       "      <th>BHK</th>\n",
       "      <th>Rent</th>\n",
       "      <th>Size</th>\n",
       "      <th>Floor</th>\n",
       "      <th>Area Type</th>\n",
       "      <th>Area Locality</th>\n",
       "      <th>City</th>\n",
       "      <th>Furnishing Status</th>\n",
       "      <th>Tenant Preferred</th>\n",
       "      <th>Bathroom</th>\n",
       "    </tr>\n",
       "  </thead>\n",
       "  <tbody>\n",
       "    <tr>\n",
       "      <th>0</th>\n",
       "      <td>2</td>\n",
       "      <td>10000</td>\n",
       "      <td>1100</td>\n",
       "      <td>Ground out of 2</td>\n",
       "      <td>Super Area</td>\n",
       "      <td>Bandel</td>\n",
       "      <td>Kolkata</td>\n",
       "      <td>Unfurnished</td>\n",
       "      <td>Bachelors/Family</td>\n",
       "      <td>2</td>\n",
       "    </tr>\n",
       "    <tr>\n",
       "      <th>1</th>\n",
       "      <td>2</td>\n",
       "      <td>20000</td>\n",
       "      <td>800</td>\n",
       "      <td>1 out of 3</td>\n",
       "      <td>Super Area</td>\n",
       "      <td>Phool Bagan, Kankurgachi</td>\n",
       "      <td>Kolkata</td>\n",
       "      <td>Semi-Furnished</td>\n",
       "      <td>Bachelors/Family</td>\n",
       "      <td>1</td>\n",
       "    </tr>\n",
       "    <tr>\n",
       "      <th>2</th>\n",
       "      <td>2</td>\n",
       "      <td>17000</td>\n",
       "      <td>1000</td>\n",
       "      <td>1 out of 3</td>\n",
       "      <td>Super Area</td>\n",
       "      <td>Salt Lake City Sector 2</td>\n",
       "      <td>Kolkata</td>\n",
       "      <td>Semi-Furnished</td>\n",
       "      <td>Bachelors/Family</td>\n",
       "      <td>1</td>\n",
       "    </tr>\n",
       "    <tr>\n",
       "      <th>3</th>\n",
       "      <td>2</td>\n",
       "      <td>10000</td>\n",
       "      <td>800</td>\n",
       "      <td>1 out of 2</td>\n",
       "      <td>Super Area</td>\n",
       "      <td>Dumdum Park</td>\n",
       "      <td>Kolkata</td>\n",
       "      <td>Unfurnished</td>\n",
       "      <td>Bachelors/Family</td>\n",
       "      <td>1</td>\n",
       "    </tr>\n",
       "    <tr>\n",
       "      <th>4</th>\n",
       "      <td>2</td>\n",
       "      <td>7500</td>\n",
       "      <td>850</td>\n",
       "      <td>1 out of 2</td>\n",
       "      <td>Carpet Area</td>\n",
       "      <td>South Dum Dum</td>\n",
       "      <td>Kolkata</td>\n",
       "      <td>Unfurnished</td>\n",
       "      <td>Bachelors</td>\n",
       "      <td>1</td>\n",
       "    </tr>\n",
       "  </tbody>\n",
       "</table>\n",
       "</div>"
      ],
      "text/plain": [
       "   BHK   Rent  Size            Floor    Area Type             Area Locality  \\\n",
       "0    2  10000  1100  Ground out of 2   Super Area                    Bandel   \n",
       "1    2  20000   800       1 out of 3   Super Area  Phool Bagan, Kankurgachi   \n",
       "2    2  17000  1000       1 out of 3   Super Area   Salt Lake City Sector 2   \n",
       "3    2  10000   800       1 out of 2   Super Area               Dumdum Park   \n",
       "4    2   7500   850       1 out of 2  Carpet Area             South Dum Dum   \n",
       "\n",
       "      City Furnishing Status  Tenant Preferred  Bathroom  \n",
       "0  Kolkata       Unfurnished  Bachelors/Family         2  \n",
       "1  Kolkata    Semi-Furnished  Bachelors/Family         1  \n",
       "2  Kolkata    Semi-Furnished  Bachelors/Family         1  \n",
       "3  Kolkata       Unfurnished  Bachelors/Family         1  \n",
       "4  Kolkata       Unfurnished         Bachelors         1  "
      ]
     },
     "execution_count": 93,
     "metadata": {},
     "output_type": "execute_result"
    }
   ],
   "source": [
    "# Menampilkan 5 baris pertama dari DataFrame df untuk melihat contoh data\n",
    "df.head()"
   ]
  },
  {
   "cell_type": "code",
   "execution_count": 94,
   "metadata": {
    "colab": {
     "base_uri": "https://localhost:8080/",
     "height": 608
    },
    "id": "PU3N-07GB1T8",
    "outputId": "62c1c9ed-72cf-49b2-e002-be3da33f0f23",
    "tags": []
   },
   "outputs": [
    {
     "data": {
      "image/png": "[encoded data removed]",
      "text/plain": [
       "<Figure size 1000x1000 with 4 Axes>"
      ]
     },
     "metadata": {},
     "output_type": "display_data"
    }
   ],
   "source": [
    "# Menampilkan histogram untuk setiap kolom numerik dalam DataFrame df\n",
    "# Histogram ini akan menunjukkan distribusi nilai dari setiap fitur numerik\n",
    "df.hist(bins=50, figsize=(10, 10))\n",
    "\n",
    "# Menonaktifkan format offset pada label tick di sumbu x dan y\n",
    "# serta menampilkan angka dalam format biasa (plain) tanpa notasi ilmiah\n",
    "plt.ticklabel_format(useOffset=False, style='plain')\n",
    "\n",
    "# Menampilkan grafik histogram\n",
    "plt.show()\n"
   ]
  },
  {
   "cell_type": "code",
   "execution_count": 95,
   "metadata": {
    "colab": {
     "base_uri": "https://localhost:8080/"
    },
    "id": "A4E1OwrsLS_8",
    "outputId": "03f4ce17-be51-4f76-9da2-5a2683c419fd",
    "tags": []
   },
   "outputs": [
    {
     "data": {
      "text/plain": [
       "count       4744.000000\n",
       "mean       35003.777403\n",
       "std        78121.204493\n",
       "min         1200.000000\n",
       "25%        10000.000000\n",
       "50%        16000.000000\n",
       "75%        33000.000000\n",
       "max      3500000.000000\n",
       "Name: Rent, dtype: object"
      ]
     },
     "execution_count": 95,
     "metadata": {},
     "output_type": "execute_result"
    }
   ],
   "source": [
    "# Menampilkan statistik deskriptif untuk kolom 'Rent', \n",
    "# dan kemudian mengonversi setiap nilai statistik deskriptif menjadi format angka dengan desimal\n",
    "df.Rent.describe().apply(lambda x: format(x, 'f'))"
   ]
  },
  {
   "cell_type": "markdown",
   "metadata": {
    "id": "YULDdMQazW8L"
   },
   "source": [
    "## Multivariate Analysis"
   ]
  },
  {
   "cell_type": "code",
   "execution_count": 19,
   "metadata": {
    "id": "HYX1ItlZg9qo",
    "tags": []
   },
   "outputs": [],
   "source": [
    "# Menambahkan fitur baru price per sqft\n",
    "df['Price_per_sqft'] = df['Rent']*1000/df['Size']"
   ]
  },
  {
   "cell_type": "code",
   "execution_count": 20,
   "metadata": {
    "colab": {
     "base_uri": "https://localhost:8080/",
     "height": 206
    },
    "id": "Lirh6S03heaU",
    "outputId": "c52bec96-f5e4-480f-b415-7a9056df28aa",
    "tags": []
   },
   "outputs": [
    {
     "data": {
      "text/html": [
       "<div>\n",
       "<style scoped>\n",
       "    .dataframe tbody tr th:only-of-type {\n",
       "        vertical-align: middle;\n",
       "    }\n",
       "\n",
       "    .dataframe tbody tr th {\n",
       "        vertical-align: top;\n",
       "    }\n",
       "\n",
       "    .dataframe thead th {\n",
       "        text-align: right;\n",
       "    }\n",
       "</style>\n",
       "<table border=\"1\" class=\"dataframe\">\n",
       "  <thead>\n",
       "    <tr style=\"text-align: right;\">\n",
       "      <th></th>\n",
       "      <th>BHK</th>\n",
       "      <th>Rent</th>\n",
       "      <th>Size</th>\n",
       "      <th>Area Type</th>\n",
       "      <th>City</th>\n",
       "      <th>Furnishing Status</th>\n",
       "      <th>Tenant Preferred</th>\n",
       "      <th>Bathroom</th>\n",
       "      <th>Price_per_sqft</th>\n",
       "    </tr>\n",
       "  </thead>\n",
       "  <tbody>\n",
       "    <tr>\n",
       "      <th>0</th>\n",
       "      <td>2</td>\n",
       "      <td>10000</td>\n",
       "      <td>1100</td>\n",
       "      <td>Super Area</td>\n",
       "      <td>Kolkata</td>\n",
       "      <td>Unfurnished</td>\n",
       "      <td>Bachelors/Family</td>\n",
       "      <td>2</td>\n",
       "      <td>9090.909091</td>\n",
       "    </tr>\n",
       "    <tr>\n",
       "      <th>1</th>\n",
       "      <td>2</td>\n",
       "      <td>20000</td>\n",
       "      <td>800</td>\n",
       "      <td>Super Area</td>\n",
       "      <td>Kolkata</td>\n",
       "      <td>Semi-Furnished</td>\n",
       "      <td>Bachelors/Family</td>\n",
       "      <td>1</td>\n",
       "      <td>25000.000000</td>\n",
       "    </tr>\n",
       "    <tr>\n",
       "      <th>2</th>\n",
       "      <td>2</td>\n",
       "      <td>17000</td>\n",
       "      <td>1000</td>\n",
       "      <td>Super Area</td>\n",
       "      <td>Kolkata</td>\n",
       "      <td>Semi-Furnished</td>\n",
       "      <td>Bachelors/Family</td>\n",
       "      <td>1</td>\n",
       "      <td>17000.000000</td>\n",
       "    </tr>\n",
       "    <tr>\n",
       "      <th>3</th>\n",
       "      <td>2</td>\n",
       "      <td>10000</td>\n",
       "      <td>800</td>\n",
       "      <td>Super Area</td>\n",
       "      <td>Kolkata</td>\n",
       "      <td>Unfurnished</td>\n",
       "      <td>Bachelors/Family</td>\n",
       "      <td>1</td>\n",
       "      <td>12500.000000</td>\n",
       "    </tr>\n",
       "    <tr>\n",
       "      <th>4</th>\n",
       "      <td>2</td>\n",
       "      <td>7500</td>\n",
       "      <td>850</td>\n",
       "      <td>Carpet Area</td>\n",
       "      <td>Kolkata</td>\n",
       "      <td>Unfurnished</td>\n",
       "      <td>Bachelors</td>\n",
       "      <td>1</td>\n",
       "      <td>8823.529412</td>\n",
       "    </tr>\n",
       "  </tbody>\n",
       "</table>\n",
       "</div>"
      ],
      "text/plain": [
       "   BHK   Rent  Size    Area Type     City Furnishing Status  Tenant Preferred  \\\n",
       "0    2  10000  1100   Super Area  Kolkata       Unfurnished  Bachelors/Family   \n",
       "1    2  20000   800   Super Area  Kolkata    Semi-Furnished  Bachelors/Family   \n",
       "2    2  17000  1000   Super Area  Kolkata    Semi-Furnished  Bachelors/Family   \n",
       "3    2  10000   800   Super Area  Kolkata       Unfurnished  Bachelors/Family   \n",
       "4    2   7500   850  Carpet Area  Kolkata       Unfurnished         Bachelors   \n",
       "\n",
       "   Bathroom  Price_per_sqft  \n",
       "0         2     9090.909091  \n",
       "1         1    25000.000000  \n",
       "2         1    17000.000000  \n",
       "3         1    12500.000000  \n",
       "4         1     8823.529412  "
      ]
     },
     "execution_count": 20,
     "metadata": {},
     "output_type": "execute_result"
    }
   ],
   "source": [
    "df.head()"
   ]
  },
  {
   "cell_type": "code",
   "execution_count": 21,
   "metadata": {
    "colab": {
     "base_uri": "https://localhost:8080/",
     "height": 206
    },
    "id": "DNhLyqOxW2Mx",
    "outputId": "3a0dee3e-7e1b-4a92-da52-2d771f3f6aa6",
    "tags": []
   },
   "outputs": [
    {
     "data": {
      "text/html": [
       "<div>\n",
       "<style scoped>\n",
       "    .dataframe tbody tr th:only-of-type {\n",
       "        vertical-align: middle;\n",
       "    }\n",
       "\n",
       "    .dataframe tbody tr th {\n",
       "        vertical-align: top;\n",
       "    }\n",
       "\n",
       "    .dataframe thead th {\n",
       "        text-align: right;\n",
       "    }\n",
       "</style>\n",
       "<table border=\"1\" class=\"dataframe\">\n",
       "  <thead>\n",
       "    <tr style=\"text-align: right;\">\n",
       "      <th></th>\n",
       "      <th>BHK</th>\n",
       "      <th>Rent</th>\n",
       "      <th>Size</th>\n",
       "      <th>Area Type</th>\n",
       "      <th>City</th>\n",
       "      <th>Furnishing Status</th>\n",
       "      <th>Tenant Preferred</th>\n",
       "      <th>Bathroom</th>\n",
       "      <th>Price_per_sqft</th>\n",
       "    </tr>\n",
       "  </thead>\n",
       "  <tbody>\n",
       "    <tr>\n",
       "      <th>7</th>\n",
       "      <td>1</td>\n",
       "      <td>5000</td>\n",
       "      <td>250</td>\n",
       "      <td>Super Area</td>\n",
       "      <td>Kolkata</td>\n",
       "      <td>Unfurnished</td>\n",
       "      <td>Bachelors</td>\n",
       "      <td>1</td>\n",
       "      <td>20000.000000</td>\n",
       "    </tr>\n",
       "    <tr>\n",
       "      <th>12</th>\n",
       "      <td>1</td>\n",
       "      <td>6500</td>\n",
       "      <td>250</td>\n",
       "      <td>Carpet Area</td>\n",
       "      <td>Kolkata</td>\n",
       "      <td>Furnished</td>\n",
       "      <td>Bachelors</td>\n",
       "      <td>1</td>\n",
       "      <td>26000.000000</td>\n",
       "    </tr>\n",
       "    <tr>\n",
       "      <th>21</th>\n",
       "      <td>2</td>\n",
       "      <td>9000</td>\n",
       "      <td>400</td>\n",
       "      <td>Carpet Area</td>\n",
       "      <td>Kolkata</td>\n",
       "      <td>Unfurnished</td>\n",
       "      <td>Bachelors</td>\n",
       "      <td>2</td>\n",
       "      <td>22500.000000</td>\n",
       "    </tr>\n",
       "    <tr>\n",
       "      <th>32</th>\n",
       "      <td>2</td>\n",
       "      <td>6000</td>\n",
       "      <td>550</td>\n",
       "      <td>Super Area</td>\n",
       "      <td>Kolkata</td>\n",
       "      <td>Semi-Furnished</td>\n",
       "      <td>Bachelors/Family</td>\n",
       "      <td>1</td>\n",
       "      <td>10909.090909</td>\n",
       "    </tr>\n",
       "    <tr>\n",
       "      <th>33</th>\n",
       "      <td>2</td>\n",
       "      <td>5000</td>\n",
       "      <td>500</td>\n",
       "      <td>Carpet Area</td>\n",
       "      <td>Kolkata</td>\n",
       "      <td>Unfurnished</td>\n",
       "      <td>Bachelors/Family</td>\n",
       "      <td>2</td>\n",
       "      <td>10000.000000</td>\n",
       "    </tr>\n",
       "  </tbody>\n",
       "</table>\n",
       "</div>"
      ],
      "text/plain": [
       "    BHK  Rent  Size    Area Type     City Furnishing Status  Tenant Preferred  \\\n",
       "7     1  5000   250   Super Area  Kolkata       Unfurnished         Bachelors   \n",
       "12    1  6500   250  Carpet Area  Kolkata         Furnished         Bachelors   \n",
       "21    2  9000   400  Carpet Area  Kolkata       Unfurnished         Bachelors   \n",
       "32    2  6000   550   Super Area  Kolkata    Semi-Furnished  Bachelors/Family   \n",
       "33    2  5000   500  Carpet Area  Kolkata       Unfurnished  Bachelors/Family   \n",
       "\n",
       "    Bathroom  Price_per_sqft  \n",
       "7          1    20000.000000  \n",
       "12         1    26000.000000  \n",
       "21         2    22500.000000  \n",
       "32         1    10909.090909  \n",
       "33         2    10000.000000  "
      ]
     },
     "execution_count": 21,
     "metadata": {},
     "output_type": "execute_result"
    }
   ],
   "source": [
    "# Mendeteksi size per BHK outlier\n",
    "# 100 sqft untuk 1 BHK itu tidak biasa sehingga anggap saja batasan tresholdnya 300 sqft/bhk\n",
    "\n",
    "df[(df.Size/df.BHK) < 300].head()"
   ]
  },
  {
   "cell_type": "code",
   "execution_count": 22,
   "metadata": {
    "colab": {
     "base_uri": "https://localhost:8080/"
    },
    "id": "kMYcIFBNYT9W",
    "outputId": "cace0cfe-8a20-43d3-f9e5-aeb0ef929621",
    "tags": []
   },
   "outputs": [
    {
     "data": {
      "text/plain": [
       "(4744, 9)"
      ]
     },
     "execution_count": 22,
     "metadata": {},
     "output_type": "execute_result"
    }
   ],
   "source": [
    "df.shape"
   ]
  },
  {
   "cell_type": "code",
   "execution_count": 23,
   "metadata": {
    "colab": {
     "base_uri": "https://localhost:8080/",
     "height": 206
    },
    "id": "d3ZaFTWbYiBO",
    "outputId": "8823729d-3b56-4eca-d348-68ff46e59441",
    "tags": []
   },
   "outputs": [
    {
     "data": {
      "text/html": [
       "<div>\n",
       "<style scoped>\n",
       "    .dataframe tbody tr th:only-of-type {\n",
       "        vertical-align: middle;\n",
       "    }\n",
       "\n",
       "    .dataframe tbody tr th {\n",
       "        vertical-align: top;\n",
       "    }\n",
       "\n",
       "    .dataframe thead th {\n",
       "        text-align: right;\n",
       "    }\n",
       "</style>\n",
       "<table border=\"1\" class=\"dataframe\">\n",
       "  <thead>\n",
       "    <tr style=\"text-align: right;\">\n",
       "      <th></th>\n",
       "      <th>BHK</th>\n",
       "      <th>Rent</th>\n",
       "      <th>Size</th>\n",
       "      <th>Area Type</th>\n",
       "      <th>City</th>\n",
       "      <th>Furnishing Status</th>\n",
       "      <th>Tenant Preferred</th>\n",
       "      <th>Bathroom</th>\n",
       "      <th>Price_per_sqft</th>\n",
       "    </tr>\n",
       "  </thead>\n",
       "  <tbody>\n",
       "    <tr>\n",
       "      <th>0</th>\n",
       "      <td>2</td>\n",
       "      <td>10000</td>\n",
       "      <td>1100</td>\n",
       "      <td>Super Area</td>\n",
       "      <td>Kolkata</td>\n",
       "      <td>Unfurnished</td>\n",
       "      <td>Bachelors/Family</td>\n",
       "      <td>2</td>\n",
       "      <td>9090.909091</td>\n",
       "    </tr>\n",
       "    <tr>\n",
       "      <th>1</th>\n",
       "      <td>2</td>\n",
       "      <td>20000</td>\n",
       "      <td>800</td>\n",
       "      <td>Super Area</td>\n",
       "      <td>Kolkata</td>\n",
       "      <td>Semi-Furnished</td>\n",
       "      <td>Bachelors/Family</td>\n",
       "      <td>1</td>\n",
       "      <td>25000.000000</td>\n",
       "    </tr>\n",
       "    <tr>\n",
       "      <th>2</th>\n",
       "      <td>2</td>\n",
       "      <td>17000</td>\n",
       "      <td>1000</td>\n",
       "      <td>Super Area</td>\n",
       "      <td>Kolkata</td>\n",
       "      <td>Semi-Furnished</td>\n",
       "      <td>Bachelors/Family</td>\n",
       "      <td>1</td>\n",
       "      <td>17000.000000</td>\n",
       "    </tr>\n",
       "    <tr>\n",
       "      <th>3</th>\n",
       "      <td>2</td>\n",
       "      <td>10000</td>\n",
       "      <td>800</td>\n",
       "      <td>Super Area</td>\n",
       "      <td>Kolkata</td>\n",
       "      <td>Unfurnished</td>\n",
       "      <td>Bachelors/Family</td>\n",
       "      <td>1</td>\n",
       "      <td>12500.000000</td>\n",
       "    </tr>\n",
       "    <tr>\n",
       "      <th>4</th>\n",
       "      <td>2</td>\n",
       "      <td>7500</td>\n",
       "      <td>850</td>\n",
       "      <td>Carpet Area</td>\n",
       "      <td>Kolkata</td>\n",
       "      <td>Unfurnished</td>\n",
       "      <td>Bachelors</td>\n",
       "      <td>1</td>\n",
       "      <td>8823.529412</td>\n",
       "    </tr>\n",
       "  </tbody>\n",
       "</table>\n",
       "</div>"
      ],
      "text/plain": [
       "   BHK   Rent  Size    Area Type     City Furnishing Status  Tenant Preferred  \\\n",
       "0    2  10000  1100   Super Area  Kolkata       Unfurnished  Bachelors/Family   \n",
       "1    2  20000   800   Super Area  Kolkata    Semi-Furnished  Bachelors/Family   \n",
       "2    2  17000  1000   Super Area  Kolkata    Semi-Furnished  Bachelors/Family   \n",
       "3    2  10000   800   Super Area  Kolkata       Unfurnished  Bachelors/Family   \n",
       "4    2   7500   850  Carpet Area  Kolkata       Unfurnished         Bachelors   \n",
       "\n",
       "   Bathroom  Price_per_sqft  \n",
       "0         2     9090.909091  \n",
       "1         1    25000.000000  \n",
       "2         1    17000.000000  \n",
       "3         1    12500.000000  \n",
       "4         1     8823.529412  "
      ]
     },
     "execution_count": 23,
     "metadata": {},
     "output_type": "execute_result"
    }
   ],
   "source": [
    "# Menghapus size per BHK outlier\n",
    "df1 = df[~(df.Size/df.BHK < 300)]\n",
    "df1.head()"
   ]
  },
  {
   "cell_type": "code",
   "execution_count": 24,
   "metadata": {
    "colab": {
     "base_uri": "https://localhost:8080/"
    },
    "id": "-t06QFxuApy8",
    "outputId": "50217f97-18b2-4495-8822-a5d0df4073d2",
    "tags": []
   },
   "outputs": [
    {
     "data": {
      "text/plain": [
       "(4196, 9)"
      ]
     },
     "execution_count": 24,
     "metadata": {},
     "output_type": "execute_result"
    }
   ],
   "source": [
    "df1.shape"
   ]
  },
  {
   "cell_type": "code",
   "execution_count": 25,
   "metadata": {
    "colab": {
     "base_uri": "https://localhost:8080/"
    },
    "id": "DsZIhoQAiKxh",
    "outputId": "a59d07dd-f44a-4125-a24e-235a678ba221",
    "tags": []
   },
   "outputs": [
    {
     "data": {
      "text/plain": [
       "count       4196.000000\n",
       "mean       32827.385605\n",
       "std        41300.048982\n",
       "min          571.428571\n",
       "25%        13000.000000\n",
       "50%        18511.595708\n",
       "75%        34896.788991\n",
       "max      1400000.000000\n",
       "Name: Price_per_sqft, dtype: object"
      ]
     },
     "execution_count": 25,
     "metadata": {},
     "output_type": "execute_result"
    }
   ],
   "source": [
    "# Mendeteksi price per sqft outlier\n",
    "df1.Price_per_sqft.describe().apply(lambda x: format(x, 'f'))"
   ]
  },
  {
   "cell_type": "markdown",
   "metadata": {
    "id": "dn5tYRtQjt0-"
   },
   "source": [
    "Harga 571 per sqft sangat rendah dan harga 1400000 per sqft sangat tinggi"
   ]
  },
  {
   "cell_type": "code",
   "execution_count": 26,
   "metadata": {
    "colab": {
     "base_uri": "https://localhost:8080/"
    },
    "id": "w6_qXGdPmE4t",
    "outputId": "f850af93-e8f5-46b3-cfcb-f2a926c340e3",
    "tags": []
   },
   "outputs": [
    {
     "data": {
      "text/plain": [
       "(3699, 9)"
      ]
     },
     "execution_count": 26,
     "metadata": {},
     "output_type": "execute_result"
    }
   ],
   "source": [
    "# Menghapus price per sqft outlier dengan mean dan one standard deviation\n",
    "def remove_pps_outliers(df):\n",
    "    df_out = pd.DataFrame()\n",
    "    for key, subdf in df.groupby('City'):\n",
    "        m = np.mean(subdf.Price_per_sqft)\n",
    "        st = np.std(subdf.Price_per_sqft)\n",
    "        reduced_df = subdf[(subdf.Price_per_sqft>(m-st)) & (subdf.Price_per_sqft<=(m+st))]\n",
    "        df_out = pd.concat([df_out,reduced_df],ignore_index=True)\n",
    "    return df_out\n",
    "\n",
    "df2 = remove_pps_outliers(df1)\n",
    "df2.shape"
   ]
  },
  {
   "cell_type": "code",
   "execution_count": 27,
   "metadata": {
    "colab": {
     "base_uri": "https://localhost:8080/",
     "height": 143
    },
    "id": "83gbI5L2cAMB",
    "outputId": "8d957a8d-4e12-402d-8586-1589468b1f94",
    "tags": []
   },
   "outputs": [
    {
     "data": {
      "text/html": [
       "<div>\n",
       "<style scoped>\n",
       "    .dataframe tbody tr th:only-of-type {\n",
       "        vertical-align: middle;\n",
       "    }\n",
       "\n",
       "    .dataframe tbody tr th {\n",
       "        vertical-align: top;\n",
       "    }\n",
       "\n",
       "    .dataframe thead th {\n",
       "        text-align: right;\n",
       "    }\n",
       "</style>\n",
       "<table border=\"1\" class=\"dataframe\">\n",
       "  <thead>\n",
       "    <tr style=\"text-align: right;\">\n",
       "      <th></th>\n",
       "      <th>BHK</th>\n",
       "      <th>Rent</th>\n",
       "      <th>Size</th>\n",
       "      <th>Area Type</th>\n",
       "      <th>City</th>\n",
       "      <th>Furnishing Status</th>\n",
       "      <th>Tenant Preferred</th>\n",
       "      <th>Bathroom</th>\n",
       "      <th>Price_per_sqft</th>\n",
       "    </tr>\n",
       "  </thead>\n",
       "  <tbody>\n",
       "    <tr>\n",
       "      <th>860</th>\n",
       "      <td>3</td>\n",
       "      <td>20000</td>\n",
       "      <td>1700</td>\n",
       "      <td>Carpet Area</td>\n",
       "      <td>Chennai</td>\n",
       "      <td>Furnished</td>\n",
       "      <td>Bachelors/Family</td>\n",
       "      <td>6</td>\n",
       "      <td>11764.705882</td>\n",
       "    </tr>\n",
       "    <tr>\n",
       "      <th>1904</th>\n",
       "      <td>4</td>\n",
       "      <td>150000</td>\n",
       "      <td>4000</td>\n",
       "      <td>Carpet Area</td>\n",
       "      <td>Delhi</td>\n",
       "      <td>Semi-Furnished</td>\n",
       "      <td>Bachelors</td>\n",
       "      <td>7</td>\n",
       "      <td>37500.000000</td>\n",
       "    </tr>\n",
       "    <tr>\n",
       "      <th>3328</th>\n",
       "      <td>1</td>\n",
       "      <td>40000</td>\n",
       "      <td>680</td>\n",
       "      <td>Super Area</td>\n",
       "      <td>Mumbai</td>\n",
       "      <td>Furnished</td>\n",
       "      <td>Bachelors/Family</td>\n",
       "      <td>4</td>\n",
       "      <td>58823.529412</td>\n",
       "    </tr>\n",
       "  </tbody>\n",
       "</table>\n",
       "</div>"
      ],
      "text/plain": [
       "      BHK    Rent  Size    Area Type     City Furnishing Status  \\\n",
       "860     3   20000  1700  Carpet Area  Chennai         Furnished   \n",
       "1904    4  150000  4000  Carpet Area    Delhi    Semi-Furnished   \n",
       "3328    1   40000   680   Super Area   Mumbai         Furnished   \n",
       "\n",
       "      Tenant Preferred  Bathroom  Price_per_sqft  \n",
       "860   Bachelors/Family         6    11764.705882  \n",
       "1904         Bachelors         7    37500.000000  \n",
       "3328  Bachelors/Family         4    58823.529412  "
      ]
     },
     "execution_count": 27,
     "metadata": {},
     "output_type": "execute_result"
    }
   ],
   "source": [
    "# Mendeteksi bathroom outlier\n",
    "# 2 BHK dengan 4 kamar mandi itu tidak biasa jadi anggap saja batasnya kamar mandi tidak boleh melebihi jumlah BHK + 2\n",
    "\n",
    "df2[df2.Bathroom > df2.BHK + 2]"
   ]
  },
  {
   "cell_type": "code",
   "execution_count": 28,
   "metadata": {
    "colab": {
     "base_uri": "https://localhost:8080/",
     "height": 206
    },
    "id": "ZF04FHb3cuPV",
    "outputId": "81b35cca-6e4d-4d6f-8ff3-b8304820f4a5",
    "tags": []
   },
   "outputs": [
    {
     "data": {
      "text/html": [
       "<div>\n",
       "<style scoped>\n",
       "    .dataframe tbody tr th:only-of-type {\n",
       "        vertical-align: middle;\n",
       "    }\n",
       "\n",
       "    .dataframe tbody tr th {\n",
       "        vertical-align: top;\n",
       "    }\n",
       "\n",
       "    .dataframe thead th {\n",
       "        text-align: right;\n",
       "    }\n",
       "</style>\n",
       "<table border=\"1\" class=\"dataframe\">\n",
       "  <thead>\n",
       "    <tr style=\"text-align: right;\">\n",
       "      <th></th>\n",
       "      <th>BHK</th>\n",
       "      <th>Rent</th>\n",
       "      <th>Size</th>\n",
       "      <th>Area Type</th>\n",
       "      <th>City</th>\n",
       "      <th>Furnishing Status</th>\n",
       "      <th>Tenant Preferred</th>\n",
       "      <th>Bathroom</th>\n",
       "      <th>Price_per_sqft</th>\n",
       "    </tr>\n",
       "  </thead>\n",
       "  <tbody>\n",
       "    <tr>\n",
       "      <th>0</th>\n",
       "      <td>3</td>\n",
       "      <td>70000</td>\n",
       "      <td>3354</td>\n",
       "      <td>Carpet Area</td>\n",
       "      <td>Bangalore</td>\n",
       "      <td>Furnished</td>\n",
       "      <td>Bachelors/Family</td>\n",
       "      <td>3</td>\n",
       "      <td>20870.602266</td>\n",
       "    </tr>\n",
       "    <tr>\n",
       "      <th>1</th>\n",
       "      <td>2</td>\n",
       "      <td>10500</td>\n",
       "      <td>800</td>\n",
       "      <td>Super Area</td>\n",
       "      <td>Bangalore</td>\n",
       "      <td>Semi-Furnished</td>\n",
       "      <td>Bachelors/Family</td>\n",
       "      <td>2</td>\n",
       "      <td>13125.000000</td>\n",
       "    </tr>\n",
       "    <tr>\n",
       "      <th>2</th>\n",
       "      <td>2</td>\n",
       "      <td>13000</td>\n",
       "      <td>1000</td>\n",
       "      <td>Super Area</td>\n",
       "      <td>Bangalore</td>\n",
       "      <td>Semi-Furnished</td>\n",
       "      <td>Bachelors/Family</td>\n",
       "      <td>2</td>\n",
       "      <td>13000.000000</td>\n",
       "    </tr>\n",
       "    <tr>\n",
       "      <th>3</th>\n",
       "      <td>2</td>\n",
       "      <td>17000</td>\n",
       "      <td>1040</td>\n",
       "      <td>Super Area</td>\n",
       "      <td>Bangalore</td>\n",
       "      <td>Furnished</td>\n",
       "      <td>Bachelors/Family</td>\n",
       "      <td>2</td>\n",
       "      <td>16346.153846</td>\n",
       "    </tr>\n",
       "    <tr>\n",
       "      <th>4</th>\n",
       "      <td>3</td>\n",
       "      <td>21000</td>\n",
       "      <td>1403</td>\n",
       "      <td>Super Area</td>\n",
       "      <td>Bangalore</td>\n",
       "      <td>Semi-Furnished</td>\n",
       "      <td>Bachelors/Family</td>\n",
       "      <td>3</td>\n",
       "      <td>14967.925873</td>\n",
       "    </tr>\n",
       "  </tbody>\n",
       "</table>\n",
       "</div>"
      ],
      "text/plain": [
       "   BHK   Rent  Size    Area Type       City Furnishing Status  \\\n",
       "0    3  70000  3354  Carpet Area  Bangalore         Furnished   \n",
       "1    2  10500   800   Super Area  Bangalore    Semi-Furnished   \n",
       "2    2  13000  1000   Super Area  Bangalore    Semi-Furnished   \n",
       "3    2  17000  1040   Super Area  Bangalore         Furnished   \n",
       "4    3  21000  1403   Super Area  Bangalore    Semi-Furnished   \n",
       "\n",
       "   Tenant Preferred  Bathroom  Price_per_sqft  \n",
       "0  Bachelors/Family         3    20870.602266  \n",
       "1  Bachelors/Family         2    13125.000000  \n",
       "2  Bachelors/Family         2    13000.000000  \n",
       "3  Bachelors/Family         2    16346.153846  \n",
       "4  Bachelors/Family         3    14967.925873  "
      ]
     },
     "execution_count": 28,
     "metadata": {},
     "output_type": "execute_result"
    }
   ],
   "source": [
    "# Menghapus bathroom outlier\n",
    "df2 = df2[~(df2.Bathroom > df2.BHK + 2)]\n",
    "df2.head()"
   ]
  },
  {
   "cell_type": "code",
   "execution_count": 29,
   "metadata": {
    "colab": {
     "base_uri": "https://localhost:8080/"
    },
    "id": "1BgiFS2iAvky",
    "outputId": "8bbd02f3-7f3a-445d-8916-98308d332399",
    "tags": []
   },
   "outputs": [
    {
     "data": {
      "text/plain": [
       "(3696, 9)"
      ]
     },
     "execution_count": 29,
     "metadata": {},
     "output_type": "execute_result"
    }
   ],
   "source": [
    "df2.shape"
   ]
  },
  {
   "cell_type": "code",
   "execution_count": 30,
   "metadata": {
    "id": "VL7c1hipq-Qq",
    "tags": []
   },
   "outputs": [],
   "source": [
    "# Menghilangkan fitur price per sqft karena sudah tidak terpakai\n",
    "df3 = df2.drop(['Price_per_sqft'], axis = 'columns')"
   ]
  },
  {
   "cell_type": "code",
   "execution_count": 52,
   "metadata": {
    "colab": {
     "base_uri": "https://localhost:8080/",
     "height": 521
    },
    "id": "cWu0Z4qtHjw-",
    "outputId": "f8651811-bb1e-4a2d-805f-6564148c2a64",
    "tags": []
   },
   "outputs": [
    {
     "data": {
      "text/plain": [
       "Text(0.5, 1.0, 'Correlation Matrix untuk Fitur Numerik ')"
      ]
     },
     "execution_count": 52,
     "metadata": {},
     "output_type": "execute_result"
    },
    {
     "data": {
      "image/png": "[encoded data removed]",
      "text/plain": [
       "<Figure size 1000x800 with 2 Axes>"
      ]
     },
     "metadata": {},
     "output_type": "display_data"
    }
   ],
   "source": [
    "# Melihat kolerasi antara fitur numerik dengan fitur target (harga)\n",
    "plt.figure(figsize=(10, 8))\n",
    "correlation_matrix = df3.select_dtypes(include='number').corr().round(2)\n",
    " \n",
    "# Untuk menge-print nilai di dalam kotak, gunakan parameter anot=True\n",
    "sns.heatmap(data=correlation_matrix, annot=True, cmap='coolwarm', linewidths=0.5, )\n",
    "plt.title(\"Correlation Matrix untuk Fitur Numerik \", size=20)"
   ]
  },
  {
   "cell_type": "code",
   "execution_count": 55,
   "metadata": {
    "colab": {
     "base_uri": "https://localhost:8080/",
     "height": 1000
    },
    "id": "Ue8M3M_jGRvp",
    "outputId": "f134b816-2ee9-44e9-cf72-9ff9f3e1f896",
    "tags": []
   },
   "outputs": [
    {
     "data": {
      "image/png": "[encoded data removed]",
      "text/plain": [
       "<Figure size 1200x400 with 1 Axes>"
      ]
     },
     "metadata": {},
     "output_type": "display_data"
    },
    {
     "data": {
      "image/png": "[encoded data removed]",
      "text/plain": [
       "<Figure size 1200x400 with 1 Axes>"
      ]
     },
     "metadata": {},
     "output_type": "display_data"
    },
    {
     "data": {
      "image/png": "[encoded data removed]",
      "text/plain": [
       "<Figure size 1200x400 with 1 Axes>"
      ]
     },
     "metadata": {},
     "output_type": "display_data"
    },
    {
     "data": {
      "image/png": "[encoded data removed]",
      "text/plain": [
       "<Figure size 1200x400 with 1 Axes>"
      ]
     },
     "metadata": {},
     "output_type": "display_data"
    }
   ],
   "source": [
    "# Melihat kolerasi antara fitur kategorik dengan fitur target (harga)\n",
    "import warnings\n",
    "warnings.filterwarnings(\"ignore\")\n",
    "\n",
    "cat_features = df2.select_dtypes(include='object').columns.to_list()\n",
    " \n",
    "for col in cat_features:\n",
    "  sns.catplot(x=col, y=\"Rent\", kind=\"bar\", dodge=False, height = 4, aspect = 3,  data=df2, palette=\"Set3\")\n",
    "  plt.title(\"Rata-rata 'Rent' Relatif terhadap - {}\".format(col))"
   ]
  },
  {
   "cell_type": "markdown",
   "metadata": {
    "id": "p3bJgDR910AI"
   },
   "source": [
    "# Data Preparation"
   ]
  },
  {
   "cell_type": "markdown",
   "metadata": {
    "id": "sk87IEuv16Lx"
   },
   "source": [
    "## One hot encoding"
   ]
  },
  {
   "cell_type": "code",
   "execution_count": 60,
   "metadata": {
    "tags": []
   },
   "outputs": [
    {
     "data": {
      "text/html": [
       "<div>\n",
       "<style scoped>\n",
       "    .dataframe tbody tr th:only-of-type {\n",
       "        vertical-align: middle;\n",
       "    }\n",
       "\n",
       "    .dataframe tbody tr th {\n",
       "        vertical-align: top;\n",
       "    }\n",
       "\n",
       "    .dataframe thead th {\n",
       "        text-align: right;\n",
       "    }\n",
       "</style>\n",
       "<table border=\"1\" class=\"dataframe\">\n",
       "  <thead>\n",
       "    <tr style=\"text-align: right;\">\n",
       "      <th></th>\n",
       "      <th>BHK</th>\n",
       "      <th>Rent</th>\n",
       "      <th>Size</th>\n",
       "      <th>Area Type</th>\n",
       "      <th>Furnishing Status</th>\n",
       "      <th>Tenant Preferred</th>\n",
       "      <th>Bathroom</th>\n",
       "      <th>Price_per_sqft</th>\n",
       "      <th>City_Chennai</th>\n",
       "      <th>City_Delhi</th>\n",
       "      <th>City_Hyderabad</th>\n",
       "      <th>City_Kolkata</th>\n",
       "      <th>City_Mumbai</th>\n",
       "    </tr>\n",
       "  </thead>\n",
       "  <tbody>\n",
       "    <tr>\n",
       "      <th>0</th>\n",
       "      <td>2</td>\n",
       "      <td>10000</td>\n",
       "      <td>1100</td>\n",
       "      <td>Super Area</td>\n",
       "      <td>Unfurnished</td>\n",
       "      <td>Bachelors/Family</td>\n",
       "      <td>2</td>\n",
       "      <td>9090.909091</td>\n",
       "      <td>False</td>\n",
       "      <td>False</td>\n",
       "      <td>False</td>\n",
       "      <td>True</td>\n",
       "      <td>False</td>\n",
       "    </tr>\n",
       "    <tr>\n",
       "      <th>1</th>\n",
       "      <td>2</td>\n",
       "      <td>20000</td>\n",
       "      <td>800</td>\n",
       "      <td>Super Area</td>\n",
       "      <td>Semi-Furnished</td>\n",
       "      <td>Bachelors/Family</td>\n",
       "      <td>1</td>\n",
       "      <td>25000.000000</td>\n",
       "      <td>False</td>\n",
       "      <td>False</td>\n",
       "      <td>False</td>\n",
       "      <td>True</td>\n",
       "      <td>False</td>\n",
       "    </tr>\n",
       "    <tr>\n",
       "      <th>2</th>\n",
       "      <td>2</td>\n",
       "      <td>17000</td>\n",
       "      <td>1000</td>\n",
       "      <td>Super Area</td>\n",
       "      <td>Semi-Furnished</td>\n",
       "      <td>Bachelors/Family</td>\n",
       "      <td>1</td>\n",
       "      <td>17000.000000</td>\n",
       "      <td>False</td>\n",
       "      <td>False</td>\n",
       "      <td>False</td>\n",
       "      <td>True</td>\n",
       "      <td>False</td>\n",
       "    </tr>\n",
       "    <tr>\n",
       "      <th>3</th>\n",
       "      <td>2</td>\n",
       "      <td>10000</td>\n",
       "      <td>800</td>\n",
       "      <td>Super Area</td>\n",
       "      <td>Unfurnished</td>\n",
       "      <td>Bachelors/Family</td>\n",
       "      <td>1</td>\n",
       "      <td>12500.000000</td>\n",
       "      <td>False</td>\n",
       "      <td>False</td>\n",
       "      <td>False</td>\n",
       "      <td>True</td>\n",
       "      <td>False</td>\n",
       "    </tr>\n",
       "    <tr>\n",
       "      <th>4</th>\n",
       "      <td>2</td>\n",
       "      <td>7500</td>\n",
       "      <td>850</td>\n",
       "      <td>Carpet Area</td>\n",
       "      <td>Unfurnished</td>\n",
       "      <td>Bachelors</td>\n",
       "      <td>1</td>\n",
       "      <td>8823.529412</td>\n",
       "      <td>False</td>\n",
       "      <td>False</td>\n",
       "      <td>False</td>\n",
       "      <td>True</td>\n",
       "      <td>False</td>\n",
       "    </tr>\n",
       "    <tr>\n",
       "      <th>...</th>\n",
       "      <td>...</td>\n",
       "      <td>...</td>\n",
       "      <td>...</td>\n",
       "      <td>...</td>\n",
       "      <td>...</td>\n",
       "      <td>...</td>\n",
       "      <td>...</td>\n",
       "      <td>...</td>\n",
       "      <td>...</td>\n",
       "      <td>...</td>\n",
       "      <td>...</td>\n",
       "      <td>...</td>\n",
       "      <td>...</td>\n",
       "    </tr>\n",
       "    <tr>\n",
       "      <th>4741</th>\n",
       "      <td>2</td>\n",
       "      <td>15000</td>\n",
       "      <td>1000</td>\n",
       "      <td>Carpet Area</td>\n",
       "      <td>Semi-Furnished</td>\n",
       "      <td>Bachelors/Family</td>\n",
       "      <td>2</td>\n",
       "      <td>15000.000000</td>\n",
       "      <td>False</td>\n",
       "      <td>False</td>\n",
       "      <td>True</td>\n",
       "      <td>False</td>\n",
       "      <td>False</td>\n",
       "    </tr>\n",
       "    <tr>\n",
       "      <th>4742</th>\n",
       "      <td>3</td>\n",
       "      <td>29000</td>\n",
       "      <td>2000</td>\n",
       "      <td>Super Area</td>\n",
       "      <td>Semi-Furnished</td>\n",
       "      <td>Bachelors/Family</td>\n",
       "      <td>3</td>\n",
       "      <td>14500.000000</td>\n",
       "      <td>False</td>\n",
       "      <td>False</td>\n",
       "      <td>True</td>\n",
       "      <td>False</td>\n",
       "      <td>False</td>\n",
       "    </tr>\n",
       "    <tr>\n",
       "      <th>4743</th>\n",
       "      <td>3</td>\n",
       "      <td>35000</td>\n",
       "      <td>1750</td>\n",
       "      <td>Carpet Area</td>\n",
       "      <td>Semi-Furnished</td>\n",
       "      <td>Bachelors/Family</td>\n",
       "      <td>3</td>\n",
       "      <td>20000.000000</td>\n",
       "      <td>False</td>\n",
       "      <td>False</td>\n",
       "      <td>True</td>\n",
       "      <td>False</td>\n",
       "      <td>False</td>\n",
       "    </tr>\n",
       "    <tr>\n",
       "      <th>4744</th>\n",
       "      <td>3</td>\n",
       "      <td>45000</td>\n",
       "      <td>1500</td>\n",
       "      <td>Carpet Area</td>\n",
       "      <td>Semi-Furnished</td>\n",
       "      <td>Family</td>\n",
       "      <td>2</td>\n",
       "      <td>30000.000000</td>\n",
       "      <td>False</td>\n",
       "      <td>False</td>\n",
       "      <td>True</td>\n",
       "      <td>False</td>\n",
       "      <td>False</td>\n",
       "    </tr>\n",
       "    <tr>\n",
       "      <th>4745</th>\n",
       "      <td>2</td>\n",
       "      <td>15000</td>\n",
       "      <td>1000</td>\n",
       "      <td>Carpet Area</td>\n",
       "      <td>Unfurnished</td>\n",
       "      <td>Bachelors</td>\n",
       "      <td>2</td>\n",
       "      <td>15000.000000</td>\n",
       "      <td>False</td>\n",
       "      <td>False</td>\n",
       "      <td>True</td>\n",
       "      <td>False</td>\n",
       "      <td>False</td>\n",
       "    </tr>\n",
       "  </tbody>\n",
       "</table>\n",
       "<p>4744 rows × 13 columns</p>\n",
       "</div>"
      ],
      "text/plain": [
       "      BHK   Rent  Size    Area Type Furnishing Status  Tenant Preferred  \\\n",
       "0       2  10000  1100   Super Area       Unfurnished  Bachelors/Family   \n",
       "1       2  20000   800   Super Area    Semi-Furnished  Bachelors/Family   \n",
       "2       2  17000  1000   Super Area    Semi-Furnished  Bachelors/Family   \n",
       "3       2  10000   800   Super Area       Unfurnished  Bachelors/Family   \n",
       "4       2   7500   850  Carpet Area       Unfurnished         Bachelors   \n",
       "...   ...    ...   ...          ...               ...               ...   \n",
       "4741    2  15000  1000  Carpet Area    Semi-Furnished  Bachelors/Family   \n",
       "4742    3  29000  2000   Super Area    Semi-Furnished  Bachelors/Family   \n",
       "4743    3  35000  1750  Carpet Area    Semi-Furnished  Bachelors/Family   \n",
       "4744    3  45000  1500  Carpet Area    Semi-Furnished            Family   \n",
       "4745    2  15000  1000  Carpet Area       Unfurnished         Bachelors   \n",
       "\n",
       "      Bathroom  Price_per_sqft  City_Chennai  City_Delhi  City_Hyderabad  \\\n",
       "0            2     9090.909091         False       False           False   \n",
       "1            1    25000.000000         False       False           False   \n",
       "2            1    17000.000000         False       False           False   \n",
       "3            1    12500.000000         False       False           False   \n",
       "4            1     8823.529412         False       False           False   \n",
       "...        ...             ...           ...         ...             ...   \n",
       "4741         2    15000.000000         False       False            True   \n",
       "4742         3    14500.000000         False       False            True   \n",
       "4743         3    20000.000000         False       False            True   \n",
       "4744         2    30000.000000         False       False            True   \n",
       "4745         2    15000.000000         False       False            True   \n",
       "\n",
       "      City_Kolkata  City_Mumbai  \n",
       "0             True        False  \n",
       "1             True        False  \n",
       "2             True        False  \n",
       "3             True        False  \n",
       "4             True        False  \n",
       "...            ...          ...  \n",
       "4741         False        False  \n",
       "4742         False        False  \n",
       "4743         False        False  \n",
       "4744         False        False  \n",
       "4745         False        False  \n",
       "\n",
       "[4744 rows x 13 columns]"
      ]
     },
     "execution_count": 60,
     "metadata": {},
     "output_type": "execute_result"
    }
   ],
   "source": [
    "pd.get_dummies(df, columns=['City'], drop_first=True)\n"
   ]
  },
  {
   "cell_type": "code",
   "execution_count": 61,
   "metadata": {
    "colab": {
     "base_uri": "https://localhost:8080/",
     "height": 305
    },
    "id": "3gTFGdvuJYOo",
    "outputId": "1aa967aa-a291-4ddc-c228-08d0f7e20caa",
    "tags": []
   },
   "outputs": [
    {
     "data": {
      "text/html": [
       "<div>\n",
       "<style scoped>\n",
       "    .dataframe tbody tr th:only-of-type {\n",
       "        vertical-align: middle;\n",
       "    }\n",
       "\n",
       "    .dataframe tbody tr th {\n",
       "        vertical-align: top;\n",
       "    }\n",
       "\n",
       "    .dataframe thead th {\n",
       "        text-align: right;\n",
       "    }\n",
       "</style>\n",
       "<table border=\"1\" class=\"dataframe\">\n",
       "  <thead>\n",
       "    <tr style=\"text-align: right;\">\n",
       "      <th></th>\n",
       "      <th>BHK</th>\n",
       "      <th>Rent</th>\n",
       "      <th>Size</th>\n",
       "      <th>Bathroom</th>\n",
       "      <th>Area Type_Carpet Area</th>\n",
       "      <th>Area Type_Super Area</th>\n",
       "      <th>City_Bangalore</th>\n",
       "      <th>City_Chennai</th>\n",
       "      <th>City_Delhi</th>\n",
       "      <th>City_Hyderabad</th>\n",
       "      <th>City_Kolkata</th>\n",
       "      <th>City_Mumbai</th>\n",
       "      <th>Furnishing Status_Furnished</th>\n",
       "      <th>Furnishing Status_Semi-Furnished</th>\n",
       "      <th>Furnishing Status_Unfurnished</th>\n",
       "      <th>Tenant Preferred_Bachelors</th>\n",
       "      <th>Tenant Preferred_Bachelors/Family</th>\n",
       "      <th>Tenant Preferred_Family</th>\n",
       "    </tr>\n",
       "  </thead>\n",
       "  <tbody>\n",
       "    <tr>\n",
       "      <th>0</th>\n",
       "      <td>3</td>\n",
       "      <td>70000</td>\n",
       "      <td>3354</td>\n",
       "      <td>3</td>\n",
       "      <td>True</td>\n",
       "      <td>False</td>\n",
       "      <td>True</td>\n",
       "      <td>False</td>\n",
       "      <td>False</td>\n",
       "      <td>False</td>\n",
       "      <td>False</td>\n",
       "      <td>False</td>\n",
       "      <td>True</td>\n",
       "      <td>False</td>\n",
       "      <td>False</td>\n",
       "      <td>False</td>\n",
       "      <td>True</td>\n",
       "      <td>False</td>\n",
       "    </tr>\n",
       "    <tr>\n",
       "      <th>1</th>\n",
       "      <td>2</td>\n",
       "      <td>10500</td>\n",
       "      <td>800</td>\n",
       "      <td>2</td>\n",
       "      <td>False</td>\n",
       "      <td>True</td>\n",
       "      <td>True</td>\n",
       "      <td>False</td>\n",
       "      <td>False</td>\n",
       "      <td>False</td>\n",
       "      <td>False</td>\n",
       "      <td>False</td>\n",
       "      <td>False</td>\n",
       "      <td>True</td>\n",
       "      <td>False</td>\n",
       "      <td>False</td>\n",
       "      <td>True</td>\n",
       "      <td>False</td>\n",
       "    </tr>\n",
       "    <tr>\n",
       "      <th>2</th>\n",
       "      <td>2</td>\n",
       "      <td>13000</td>\n",
       "      <td>1000</td>\n",
       "      <td>2</td>\n",
       "      <td>False</td>\n",
       "      <td>True</td>\n",
       "      <td>True</td>\n",
       "      <td>False</td>\n",
       "      <td>False</td>\n",
       "      <td>False</td>\n",
       "      <td>False</td>\n",
       "      <td>False</td>\n",
       "      <td>False</td>\n",
       "      <td>True</td>\n",
       "      <td>False</td>\n",
       "      <td>False</td>\n",
       "      <td>True</td>\n",
       "      <td>False</td>\n",
       "    </tr>\n",
       "    <tr>\n",
       "      <th>3</th>\n",
       "      <td>2</td>\n",
       "      <td>17000</td>\n",
       "      <td>1040</td>\n",
       "      <td>2</td>\n",
       "      <td>False</td>\n",
       "      <td>True</td>\n",
       "      <td>True</td>\n",
       "      <td>False</td>\n",
       "      <td>False</td>\n",
       "      <td>False</td>\n",
       "      <td>False</td>\n",
       "      <td>False</td>\n",
       "      <td>True</td>\n",
       "      <td>False</td>\n",
       "      <td>False</td>\n",
       "      <td>False</td>\n",
       "      <td>True</td>\n",
       "      <td>False</td>\n",
       "    </tr>\n",
       "    <tr>\n",
       "      <th>4</th>\n",
       "      <td>3</td>\n",
       "      <td>21000</td>\n",
       "      <td>1403</td>\n",
       "      <td>3</td>\n",
       "      <td>False</td>\n",
       "      <td>True</td>\n",
       "      <td>True</td>\n",
       "      <td>False</td>\n",
       "      <td>False</td>\n",
       "      <td>False</td>\n",
       "      <td>False</td>\n",
       "      <td>False</td>\n",
       "      <td>False</td>\n",
       "      <td>True</td>\n",
       "      <td>False</td>\n",
       "      <td>False</td>\n",
       "      <td>True</td>\n",
       "      <td>False</td>\n",
       "    </tr>\n",
       "  </tbody>\n",
       "</table>\n",
       "</div>"
      ],
      "text/plain": [
       "   BHK   Rent  Size  Bathroom  Area Type_Carpet Area  Area Type_Super Area  \\\n",
       "0    3  70000  3354         3                   True                 False   \n",
       "1    2  10500   800         2                  False                  True   \n",
       "2    2  13000  1000         2                  False                  True   \n",
       "3    2  17000  1040         2                  False                  True   \n",
       "4    3  21000  1403         3                  False                  True   \n",
       "\n",
       "   City_Bangalore  City_Chennai  City_Delhi  City_Hyderabad  City_Kolkata  \\\n",
       "0            True         False       False           False         False   \n",
       "1            True         False       False           False         False   \n",
       "2            True         False       False           False         False   \n",
       "3            True         False       False           False         False   \n",
       "4            True         False       False           False         False   \n",
       "\n",
       "   City_Mumbai  Furnishing Status_Furnished  Furnishing Status_Semi-Furnished  \\\n",
       "0        False                         True                             False   \n",
       "1        False                        False                              True   \n",
       "2        False                        False                              True   \n",
       "3        False                         True                             False   \n",
       "4        False                        False                              True   \n",
       "\n",
       "   Furnishing Status_Unfurnished  Tenant Preferred_Bachelors  \\\n",
       "0                          False                       False   \n",
       "1                          False                       False   \n",
       "2                          False                       False   \n",
       "3                          False                       False   \n",
       "4                          False                       False   \n",
       "\n",
       "   Tenant Preferred_Bachelors/Family  Tenant Preferred_Family  \n",
       "0                               True                    False  \n",
       "1                               True                    False  \n",
       "2                               True                    False  \n",
       "3                               True                    False  \n",
       "4                               True                    False  "
      ]
     },
     "execution_count": 61,
     "metadata": {},
     "output_type": "execute_result"
    }
   ],
   "source": [
    "df3.head()"
   ]
  },
  {
   "cell_type": "markdown",
   "metadata": {
    "id": "xdTaBzzy1_4N"
   },
   "source": [
    "## Train Test Split"
   ]
  },
  {
   "cell_type": "code",
   "execution_count": 62,
   "metadata": {
    "id": "1XQHLlRQJcQh",
    "tags": []
   },
   "outputs": [],
   "source": [
    "from sklearn.model_selection import train_test_split\n",
    " \n",
    "X = df3.drop([\"Rent\"],axis =1)\n",
    "y = df3[\"Rent\"]\n",
    "X_train, X_test, y_train, y_test = train_test_split(X, y, test_size = 0.05, random_state=123)"
   ]
  },
  {
   "cell_type": "code",
   "execution_count": 63,
   "metadata": {
    "colab": {
     "base_uri": "https://localhost:8080/"
    },
    "id": "L71hEo_YKrVV",
    "outputId": "b40e95bc-d5c5-4da0-82fb-268ebd7c6765",
    "tags": []
   },
   "outputs": [
    {
     "name": "stdout",
     "output_type": "stream",
     "text": [
      "Total # of sample in whole dataset: 3696\n",
      "Total # of sample in train dataset: 3511\n",
      "Total # of sample in test dataset: 185\n"
     ]
    }
   ],
   "source": [
    "print(f'Total # of sample in whole dataset: {len(X)}')\n",
    "print(f'Total # of sample in train dataset: {len(X_train)}')\n",
    "print(f'Total # of sample in test dataset: {len(X_test)}')"
   ]
  },
  {
   "cell_type": "markdown",
   "metadata": {
    "id": "IFoMpxkV2Fiz"
   },
   "source": [
    "## Normalization"
   ]
  },
  {
   "cell_type": "code",
   "execution_count": 64,
   "metadata": {
    "colab": {
     "base_uri": "https://localhost:8080/",
     "height": 206
    },
    "id": "-ALMIqKGKkJB",
    "outputId": "9a6b697b-b7bc-4e75-d3ca-6d7da8095c50",
    "tags": []
   },
   "outputs": [
    {
     "data": {
      "text/html": [
       "<div>\n",
       "<style scoped>\n",
       "    .dataframe tbody tr th:only-of-type {\n",
       "        vertical-align: middle;\n",
       "    }\n",
       "\n",
       "    .dataframe tbody tr th {\n",
       "        vertical-align: top;\n",
       "    }\n",
       "\n",
       "    .dataframe thead th {\n",
       "        text-align: right;\n",
       "    }\n",
       "</style>\n",
       "<table border=\"1\" class=\"dataframe\">\n",
       "  <thead>\n",
       "    <tr style=\"text-align: right;\">\n",
       "      <th></th>\n",
       "      <th>BHK</th>\n",
       "      <th>Size</th>\n",
       "      <th>Bathroom</th>\n",
       "    </tr>\n",
       "  </thead>\n",
       "  <tbody>\n",
       "    <tr>\n",
       "      <th>1865</th>\n",
       "      <td>1.186385</td>\n",
       "      <td>0.454836</td>\n",
       "      <td>0.053982</td>\n",
       "    </tr>\n",
       "    <tr>\n",
       "      <th>439</th>\n",
       "      <td>-0.071283</td>\n",
       "      <td>-0.376100</td>\n",
       "      <td>0.053982</td>\n",
       "    </tr>\n",
       "    <tr>\n",
       "      <th>823</th>\n",
       "      <td>-0.071283</td>\n",
       "      <td>1.470424</td>\n",
       "      <td>0.053982</td>\n",
       "    </tr>\n",
       "    <tr>\n",
       "      <th>3463</th>\n",
       "      <td>-0.071283</td>\n",
       "      <td>-0.560752</td>\n",
       "      <td>0.053982</td>\n",
       "    </tr>\n",
       "    <tr>\n",
       "      <th>1519</th>\n",
       "      <td>-0.071283</td>\n",
       "      <td>0.194476</td>\n",
       "      <td>0.053982</td>\n",
       "    </tr>\n",
       "  </tbody>\n",
       "</table>\n",
       "</div>"
      ],
      "text/plain": [
       "           BHK      Size  Bathroom\n",
       "1865  1.186385  0.454836  0.053982\n",
       "439  -0.071283 -0.376100  0.053982\n",
       "823  -0.071283  1.470424  0.053982\n",
       "3463 -0.071283 -0.560752  0.053982\n",
       "1519 -0.071283  0.194476  0.053982"
      ]
     },
     "execution_count": 64,
     "metadata": {},
     "output_type": "execute_result"
    }
   ],
   "source": [
    "from sklearn.preprocessing import StandardScaler\n",
    "\n",
    "# Normalisasi data train\n",
    "numerical_features = ['BHK', 'Size', 'Bathroom']\n",
    "scaler = StandardScaler()\n",
    "scaler.fit(X_train[numerical_features])\n",
    "X_train[numerical_features] = scaler.transform(X_train.loc[:, numerical_features])\n",
    "X_train[numerical_features].head()"
   ]
  },
  {
   "cell_type": "code",
   "execution_count": 65,
   "metadata": {
    "id": "ECgZJlatLlDj",
    "tags": []
   },
   "outputs": [],
   "source": [
    "# Normalisasi data test\n",
    "X_test.loc[:, numerical_features] = scaler.transform(X_test[numerical_features])"
   ]
  },
  {
   "cell_type": "markdown",
   "metadata": {
    "id": "0SUoQq9A2cF_"
   },
   "source": [
    "# Modeling"
   ]
  },
  {
   "cell_type": "markdown",
   "metadata": {
    "id": "Pwyvrj2gP9eu"
   },
   "source": [
    "## Grid Search"
   ]
  },
  {
   "cell_type": "code",
   "execution_count": 66,
   "metadata": {
    "id": "dsSB08wvCV2i",
    "tags": []
   },
   "outputs": [],
   "source": [
    "from sklearn.neighbors import KNeighborsRegressor\n",
    "from sklearn.ensemble import RandomForestRegressor\n",
    "from sklearn.ensemble import AdaBoostRegressor"
   ]
  },
  {
   "cell_type": "code",
   "execution_count": 67,
   "metadata": {
    "colab": {
     "base_uri": "https://localhost:8080/",
     "height": 143
    },
    "id": "OSpZJLTH6g1g",
    "outputId": "a30cb590-4ffe-4d72-f34b-ae7908cb7539",
    "tags": []
   },
   "outputs": [
    {
     "data": {
      "text/html": [
       "<div>\n",
       "<style scoped>\n",
       "    .dataframe tbody tr th:only-of-type {\n",
       "        vertical-align: middle;\n",
       "    }\n",
       "\n",
       "    .dataframe tbody tr th {\n",
       "        vertical-align: top;\n",
       "    }\n",
       "\n",
       "    .dataframe thead th {\n",
       "        text-align: right;\n",
       "    }\n",
       "</style>\n",
       "<table border=\"1\" class=\"dataframe\">\n",
       "  <thead>\n",
       "    <tr style=\"text-align: right;\">\n",
       "      <th></th>\n",
       "      <th>model</th>\n",
       "      <th>best_score</th>\n",
       "      <th>best_params</th>\n",
       "    </tr>\n",
       "  </thead>\n",
       "  <tbody>\n",
       "    <tr>\n",
       "      <th>0</th>\n",
       "      <td>knn</td>\n",
       "      <td>0.460230</td>\n",
       "      <td>{'n_neighbors': 7}</td>\n",
       "    </tr>\n",
       "    <tr>\n",
       "      <th>1</th>\n",
       "      <td>boosting</td>\n",
       "      <td>0.856539</td>\n",
       "      <td>{'learning_rate': 0.1, 'n_estimators': 100, 'r...</td>\n",
       "    </tr>\n",
       "    <tr>\n",
       "      <th>2</th>\n",
       "      <td>random_forest</td>\n",
       "      <td>0.893655</td>\n",
       "      <td>{'max_depth': 8, 'n_estimators': 25, 'random_s...</td>\n",
       "    </tr>\n",
       "  </tbody>\n",
       "</table>\n",
       "</div>"
      ],
      "text/plain": [
       "           model  best_score  \\\n",
       "0            knn    0.460230   \n",
       "1       boosting    0.856539   \n",
       "2  random_forest    0.893655   \n",
       "\n",
       "                                         best_params  \n",
       "0                                 {'n_neighbors': 7}  \n",
       "1  {'learning_rate': 0.1, 'n_estimators': 100, 'r...  \n",
       "2  {'max_depth': 8, 'n_estimators': 25, 'random_s...  "
      ]
     },
     "execution_count": 67,
     "metadata": {},
     "output_type": "execute_result"
    }
   ],
   "source": [
    "from sklearn.model_selection import GridSearchCV\n",
    "from sklearn.model_selection import ShuffleSplit\n",
    "\n",
    "def grid_search_model(X,y):\n",
    "    algos = {\n",
    "        'knn': {\n",
    "            'model': KNeighborsRegressor(),\n",
    "            'params': {\n",
    "                'n_neighbors': [5, 6, 7, 8, 9, 10, 11, 12, 13, 14, 15],\n",
    "            }\n",
    "        },\n",
    "        'boosting': {\n",
    "            'model': AdaBoostRegressor(),\n",
    "            'params': {\n",
    "                'learning_rate' : [0.1, 0.05, 0.01, 0.05, 0.001],\n",
    "                'n_estimators': [25, 50, 75, 100],\n",
    "                'random_state': [11, 33, 55, 77]\n",
    "            }\n",
    "        },\n",
    "        'random_forest': {\n",
    "            'model': RandomForestRegressor(),\n",
    "            'params': {\n",
    "                'n_estimators': [25, 50, 75, 100],\n",
    "                'max_depth' : [8, 16, 32, 64],\n",
    "                'random_state': [11, 33, 55, 77],\n",
    "            }\n",
    "        }\n",
    "        \n",
    "    }\n",
    "\n",
    "    scores = []\n",
    "    cv = ShuffleSplit(n_splits=5, test_size=0.05, random_state=123)\n",
    "    for algo_name, config in algos.items():\n",
    "        gs =  GridSearchCV(config['model'], config['params'], cv=cv, return_train_score=False)\n",
    "        gs.fit(X,y)\n",
    "        scores.append({\n",
    "            'model': algo_name,\n",
    "            'best_score': gs.best_score_,\n",
    "            'best_params': gs.best_params_\n",
    "        })\n",
    "\n",
    "    return pd.DataFrame(scores,columns=['model','best_score','best_params'])\n",
    "\n",
    "grid_search_model(X,y)"
   ]
  },
  {
   "cell_type": "markdown",
   "metadata": {
    "id": "rbSeK4vjVN4k"
   },
   "source": [
    "## Model with best parameter"
   ]
  },
  {
   "cell_type": "code",
   "execution_count": 68,
   "metadata": {
    "id": "dyqVpKnzR52I",
    "tags": []
   },
   "outputs": [],
   "source": [
    "acc = pd.DataFrame(index=['accuracy'])"
   ]
  },
  {
   "cell_type": "code",
   "execution_count": 69,
   "metadata": {
    "id": "YOOpqaGVCbNZ",
    "tags": []
   },
   "outputs": [],
   "source": [
    "from sklearn.metrics import mean_squared_error"
   ]
  },
  {
   "cell_type": "code",
   "execution_count": 70,
   "metadata": {
    "colab": {
     "base_uri": "https://localhost:8080/"
    },
    "id": "khMDeczpLNpS",
    "outputId": "5e0a0250-b92c-476e-fb23-5db6275dfe3e",
    "tags": []
   },
   "outputs": [
    {
     "data": {
      "text/plain": [
       "0.7238397713049399"
      ]
     },
     "execution_count": 70,
     "metadata": {},
     "output_type": "execute_result"
    }
   ],
   "source": [
    "knn = KNeighborsRegressor(n_neighbors = 7)\n",
    "knn.fit(X_train, y_train)\n",
    "acc.loc['accuracy', 'knn'] = knn.score(X_test,y_test)\n",
    "knn.score(X_test,y_test)"
   ]
  },
  {
   "cell_type": "code",
   "execution_count": 71,
   "metadata": {
    "colab": {
     "base_uri": "https://localhost:8080/"
    },
    "id": "kKOolVq4LboR",
    "outputId": "147ea550-ee23-4437-a8a3-5c0351447de0",
    "tags": []
   },
   "outputs": [
    {
     "data": {
      "text/plain": [
       "0.9320574970694799"
      ]
     },
     "execution_count": 71,
     "metadata": {},
     "output_type": "execute_result"
    }
   ],
   "source": [
    "rf = RandomForestRegressor(n_estimators = 50, max_depth = 8, random_state = 11)\n",
    "rf.fit(X_train, y_train)\n",
    "acc.loc['accuracy', 'rf'] = rf.score(X_test,y_test)\n",
    "rf.score(X_test,y_test)"
   ]
  },
  {
   "cell_type": "code",
   "execution_count": 72,
   "metadata": {
    "colab": {
     "base_uri": "https://localhost:8080/"
    },
    "id": "2GbH9oq_LfN9",
    "outputId": "de7bec70-345b-4bf5-9880-8d2903c5271f",
    "tags": []
   },
   "outputs": [
    {
     "data": {
      "text/plain": [
       "0.8985561811074477"
      ]
     },
     "execution_count": 72,
     "metadata": {},
     "output_type": "execute_result"
    }
   ],
   "source": [
    "boosting = AdaBoostRegressor(n_estimators = 25, learning_rate = 0.001, random_state = 11)                             \n",
    "boosting.fit(X_train, y_train)\n",
    "acc.loc['accuracy', 'boosting'] = boosting.score(X_test,y_test)\n",
    "boosting.score(X_test,y_test)"
   ]
  },
  {
   "cell_type": "markdown",
   "metadata": {
    "id": "Ep-VSSyRQSzG"
   },
   "source": [
    "# Evaluation"
   ]
  },
  {
   "cell_type": "code",
   "execution_count": 73,
   "metadata": {
    "colab": {
     "base_uri": "https://localhost:8080/",
     "height": 81
    },
    "id": "X0qxmcPzTelA",
    "outputId": "d7d331ab-39fa-4339-be41-c82396b015a0",
    "tags": []
   },
   "outputs": [
    {
     "data": {
      "text/html": [
       "<div>\n",
       "<style scoped>\n",
       "    .dataframe tbody tr th:only-of-type {\n",
       "        vertical-align: middle;\n",
       "    }\n",
       "\n",
       "    .dataframe tbody tr th {\n",
       "        vertical-align: top;\n",
       "    }\n",
       "\n",
       "    .dataframe thead th {\n",
       "        text-align: right;\n",
       "    }\n",
       "</style>\n",
       "<table border=\"1\" class=\"dataframe\">\n",
       "  <thead>\n",
       "    <tr style=\"text-align: right;\">\n",
       "      <th></th>\n",
       "      <th>knn</th>\n",
       "      <th>rf</th>\n",
       "      <th>boosting</th>\n",
       "    </tr>\n",
       "  </thead>\n",
       "  <tbody>\n",
       "    <tr>\n",
       "      <th>accuracy</th>\n",
       "      <td>0.72384</td>\n",
       "      <td>0.932057</td>\n",
       "      <td>0.898556</td>\n",
       "    </tr>\n",
       "  </tbody>\n",
       "</table>\n",
       "</div>"
      ],
      "text/plain": [
       "              knn        rf  boosting\n",
       "accuracy  0.72384  0.932057  0.898556"
      ]
     },
     "execution_count": 73,
     "metadata": {},
     "output_type": "execute_result"
    }
   ],
   "source": [
    "# Akurasi dari model\n",
    "acc"
   ]
  },
  {
   "cell_type": "code",
   "execution_count": 74,
   "metadata": {
    "colab": {
     "base_uri": "https://localhost:8080/",
     "height": 143
    },
    "id": "pPy7WYhWLl9U",
    "outputId": "b005ae92-7370-4960-c5fe-8c1508ef9de3",
    "tags": []
   },
   "outputs": [
    {
     "data": {
      "text/html": [
       "<div>\n",
       "<style scoped>\n",
       "    .dataframe tbody tr th:only-of-type {\n",
       "        vertical-align: middle;\n",
       "    }\n",
       "\n",
       "    .dataframe tbody tr th {\n",
       "        vertical-align: top;\n",
       "    }\n",
       "\n",
       "    .dataframe thead th {\n",
       "        text-align: right;\n",
       "    }\n",
       "</style>\n",
       "<table border=\"1\" class=\"dataframe\">\n",
       "  <thead>\n",
       "    <tr style=\"text-align: right;\">\n",
       "      <th></th>\n",
       "      <th>train</th>\n",
       "      <th>test</th>\n",
       "    </tr>\n",
       "  </thead>\n",
       "  <tbody>\n",
       "    <tr>\n",
       "      <th>KNN</th>\n",
       "      <td>156214.077019</td>\n",
       "      <td>663652.767095</td>\n",
       "    </tr>\n",
       "    <tr>\n",
       "      <th>RF</th>\n",
       "      <td>63498.211157</td>\n",
       "      <td>163275.610997</td>\n",
       "    </tr>\n",
       "    <tr>\n",
       "      <th>Boosting</th>\n",
       "      <td>171831.281366</td>\n",
       "      <td>243784.09386</td>\n",
       "    </tr>\n",
       "  </tbody>\n",
       "</table>\n",
       "</div>"
      ],
      "text/plain": [
       "                  train           test\n",
       "KNN       156214.077019  663652.767095\n",
       "RF         63498.211157  163275.610997\n",
       "Boosting  171831.281366   243784.09386"
      ]
     },
     "execution_count": 74,
     "metadata": {},
     "output_type": "execute_result"
    }
   ],
   "source": [
    "# Mean squared error dari model\n",
    "mse = pd.DataFrame(columns=['train', 'test'], index=['KNN','RF','Boosting'])\n",
    " \n",
    "model_dict = {'KNN': knn, 'RF': rf, 'Boosting': boosting}\n",
    "\n",
    "for name, model in model_dict.items():\n",
    "    mse.loc[name, 'train'] = mean_squared_error(y_true=y_train, y_pred=model.predict(X_train))/1e3 \n",
    "    mse.loc[name, 'test'] = mean_squared_error(y_true=y_test, y_pred=model.predict(X_test))/1e3\n",
    " \n",
    "mse"
   ]
  },
  {
   "cell_type": "code",
   "execution_count": 75,
   "metadata": {
    "colab": {
     "base_uri": "https://localhost:8080/",
     "height": 265
    },
    "id": "YZhytVX-L0d9",
    "outputId": "3b9f86e1-5025-49a0-db24-d61abe0ae3ec",
    "tags": []
   },
   "outputs": [
    {
     "data": {
      "image/png": "[encoded data removed]",
      "text/plain": [
       "<Figure size 640x480 with 1 Axes>"
      ]
     },
     "metadata": {},
     "output_type": "display_data"
    }
   ],
   "source": [
    "fig, ax = plt.subplots()\n",
    "mse.sort_values(by='test', ascending=False).plot(kind='barh', ax=ax, zorder=3)\n",
    "ax.grid(zorder=0)"
   ]
  },
  {
   "cell_type": "code",
   "execution_count": 76,
   "metadata": {
    "colab": {
     "base_uri": "https://localhost:8080/",
     "height": 206
    },
    "id": "dnZyJtYpL4MB",
    "outputId": "3874ff79-c65c-4fd1-f02c-3110b5af3028",
    "tags": []
   },
   "outputs": [
    {
     "data": {
      "text/html": [
       "<div>\n",
       "<style scoped>\n",
       "    .dataframe tbody tr th:only-of-type {\n",
       "        vertical-align: middle;\n",
       "    }\n",
       "\n",
       "    .dataframe tbody tr th {\n",
       "        vertical-align: top;\n",
       "    }\n",
       "\n",
       "    .dataframe thead th {\n",
       "        text-align: right;\n",
       "    }\n",
       "</style>\n",
       "<table border=\"1\" class=\"dataframe\">\n",
       "  <thead>\n",
       "    <tr style=\"text-align: right;\">\n",
       "      <th></th>\n",
       "      <th>y_true</th>\n",
       "      <th>prediksi_KNN</th>\n",
       "      <th>prediksi_RF</th>\n",
       "      <th>prediksi_Boosting</th>\n",
       "    </tr>\n",
       "  </thead>\n",
       "  <tbody>\n",
       "    <tr>\n",
       "      <th>1733</th>\n",
       "      <td>11000</td>\n",
       "      <td>11071.4</td>\n",
       "      <td>10913.1</td>\n",
       "      <td>13168.5</td>\n",
       "    </tr>\n",
       "    <tr>\n",
       "      <th>1442</th>\n",
       "      <td>13000</td>\n",
       "      <td>12071.4</td>\n",
       "      <td>13297.7</td>\n",
       "      <td>13168.5</td>\n",
       "    </tr>\n",
       "    <tr>\n",
       "      <th>1911</th>\n",
       "      <td>18000</td>\n",
       "      <td>21571.4</td>\n",
       "      <td>22240.4</td>\n",
       "      <td>13517.4</td>\n",
       "    </tr>\n",
       "    <tr>\n",
       "      <th>2003</th>\n",
       "      <td>22000</td>\n",
       "      <td>23428.6</td>\n",
       "      <td>17893.1</td>\n",
       "      <td>18242.7</td>\n",
       "    </tr>\n",
       "    <tr>\n",
       "      <th>553</th>\n",
       "      <td>11000</td>\n",
       "      <td>16214.3</td>\n",
       "      <td>11114.7</td>\n",
       "      <td>13168.5</td>\n",
       "    </tr>\n",
       "  </tbody>\n",
       "</table>\n",
       "</div>"
      ],
      "text/plain": [
       "      y_true  prediksi_KNN  prediksi_RF  prediksi_Boosting\n",
       "1733   11000       11071.4      10913.1            13168.5\n",
       "1442   13000       12071.4      13297.7            13168.5\n",
       "1911   18000       21571.4      22240.4            13517.4\n",
       "2003   22000       23428.6      17893.1            18242.7\n",
       "553    11000       16214.3      11114.7            13168.5"
      ]
     },
     "execution_count": 76,
     "metadata": {},
     "output_type": "execute_result"
    }
   ],
   "source": [
    "prediksi = X_test.iloc[5:10].copy()\n",
    "pred_dict = {'y_true':y_test[5:10]}\n",
    "for name, model in model_dict.items():\n",
    "    pred_dict['prediksi_'+name] = model.predict(prediksi).round(1)\n",
    " \n",
    "pd.DataFrame(pred_dict)"
   ]
  }
 ],
 "metadata": {
  "colab": {
   "collapsed_sections": [
    "sk87IEuv16Lx",
    "IFoMpxkV2Fiz"
   ],
   "provenance": []
  },
  "kernelspec": {
   "display_name": "Python 3 (ipykernel)",
   "language": "python",
   "name": "python3"
  },
  "language_info": {
   "codemirror_mode": {
    "name": "ipython",
    "version": 3
   },
   "file_extension": ".py",
   "mimetype": "text/x-python",
   "name": "python",
   "nbconvert_exporter": "python",
   "pygments_lexer": "ipython3",
   "version": "3.11.5"
  }
 },
 "nbformat": 4,
 "nbformat_minor": 4
}
